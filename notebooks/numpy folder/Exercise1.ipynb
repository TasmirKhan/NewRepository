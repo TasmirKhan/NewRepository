{
 "cells": [
  {
   "cell_type": "code",
   "execution_count": null,
   "id": "9c036157",
   "metadata": {},
   "outputs": [],
   "source": [
    "# Numpy:-\n",
    "# Exercises for Practice\n",
    "# 1. Create a 3×3 array filled with random numbers and print its shape.\n",
    "# 2. Convert an array of floats [1.1, 2.2, 3.3] into integers.\n",
    "# 4. Use fancy indexing to extract even numbers from [1, 2, 3, 4, 5, 6].\n",
    "# 5. Reshape a 1D array of size 9 into a 3×3 matrix.\n",
    "# 6. Use boolean masking to filter numbers greater than 50 in an array"
   ]
  },
  {
   "cell_type": "code",
   "execution_count": null,
   "id": "21bc14af",
   "metadata": {},
   "outputs": [
    {
     "data": {
      "text/plain": [
       "array([[627, 423,  57],\n",
       "       [348, 467, 660],\n",
       "       [951,  12,  36]])"
      ]
     },
     "execution_count": 54,
     "metadata": {},
     "output_type": "execute_result"
    }
   ],
   "source": [
    "# 1. Create a 3×3 array filled with random numbers and print its shape.\n",
    "import numpy as np\n",
    "import random\n",
    "np.zeros((3,4))\n",
    "np.ones((3,3))\n",
    "np.ones(5)\n",
    "np.full((3,3),7)\n",
    "np.eye(7)\n",
    "np.arange(1,99,5)\n",
    "np.linspace(1,99,7)\n",
    "np.random.rand(3) #gives float values between 0 and 1\n",
    "np.random.randint(0,999,(3,3))\n",
    "\n",
    "\n"
   ]
  },
  {
   "cell_type": "code",
   "execution_count": null,
   "id": "c54ac747",
   "metadata": {},
   "outputs": [
    {
     "name": "stdout",
     "output_type": "stream",
     "text": [
      "Original array:-\n",
      " [[7. 0. 5.]\n",
      " [2. 0. 8.]\n",
      " [7. 7. 3.]]\n",
      "\n",
      "Integer form:-\n",
      " [[7 0 5]\n",
      " [2 0 8]\n",
      " [7 7 3]]\n",
      "\n",
      "OG:-\n",
      "  [[7 0 5]\n",
      " [2 0 8]\n",
      " [7 7 3]]\n"
     ]
    }
   ],
   "source": [
    "#Convert an array of floats [1.1, 2.2, 3.3] into integers.\n",
    "\n",
    "import numpy as np\n",
    "import random\n",
    "arr = np.array(np.random.randint(0,10,(3,3)), dtype=np.float32)\n",
    "print(\"Original array:-\\n\",arr)\n",
    "\n",
    "print(\"\\nInteger form:-\\n\",arr.astype(int))\n",
    "# arr = arr.astype(int)\n",
    "\n",
    "print(\"\\nOG:-\\n \", arr)\n",
    "\n",
    "\n"
   ]
  },
  {
   "cell_type": "code",
   "execution_count": 90,
   "id": "3e886cae",
   "metadata": {},
   "outputs": [
    {
     "name": "stdout",
     "output_type": "stream",
     "text": [
      "[6 5 8 8 7 9 4 9 9 1]\n",
      "\n",
      "Picking even numbers from the given array.\n",
      "\n",
      "[6 8 8 4]\n",
      "[6 5 8 8 7 9 4 9 9 1]\n"
     ]
    }
   ],
   "source": [
    "# 3. Use fancy indexing to extract even numbers from [1, 2, 3, 4, 5, 6].\n",
    "\n",
    "import numpy as np\n",
    "import random as rd\n",
    "\n",
    "arr = np.array(np.random.randint(1,10,(10)))\n",
    "print(arr)\n",
    "\n",
    "print(\"\\nPicking even numbers from the given array.\\n\")\n",
    "even = arr[arr%2 == 0]\n",
    "print(even)\n",
    "print(arr)"
   ]
  },
  {
   "cell_type": "code",
   "execution_count": 93,
   "id": "b3a1c4b1",
   "metadata": {},
   "outputs": [
    {
     "name": "stdout",
     "output_type": "stream",
     "text": [
      "[43 30 59 20 82 47 79 28 41]\n"
     ]
    },
    {
     "data": {
      "text/plain": [
       "array([[43, 30, 59],\n",
       "       [20, 82, 47],\n",
       "       [79, 28, 41]])"
      ]
     },
     "execution_count": 93,
     "metadata": {},
     "output_type": "execute_result"
    }
   ],
   "source": [
    "#4. Reshape a 1D array of size 9 into a 3×3 matrix.\n",
    "\n",
    "import numpy as np\n",
    "import random \n",
    "\n",
    "arr = np.array(np.random.randint(1,99,(9)))\n",
    "print(arr)\n",
    "arr.reshape((3,3))"
   ]
  },
  {
   "cell_type": "code",
   "execution_count": 98,
   "id": "caecb6da",
   "metadata": {},
   "outputs": [
    {
     "name": "stdout",
     "output_type": "stream",
     "text": [
      "[53 68 28 80 95 89 90 24 53 97 68 45 15 54 41 57 39 14 75 60 68 81 74  9\n",
      " 86 61  8 21 19 75 65 47 24 33 47 91 16 85 31 14 56 87 55 19 21 87 26 23\n",
      " 61 31 12 45 58  4 15 52 36 28 53 90 92 84 20 46 39 95 15  5 28 95 94 57\n",
      " 59 67 34 28 26 49 53 71 78 24 59 61 10 84 97 77 93 45 58 89 58 63 82 79\n",
      " 45 50 22]\n",
      "\n",
      "Masked array of values greater than 50:-\n",
      " [53 68 80 95 89 90 53 97 68 54 57 75 60 68 81 74 86 61 75 65 91 85 56 87\n",
      " 55 87 61 58 52 53 90 92 84 95 95 94 57 59 67 53 71 78 59 61 84 97 77 93\n",
      " 58 89 58 63 82 79]\n"
     ]
    }
   ],
   "source": [
    "# 5. Use boolean masking to filter numbers greater than 50 in an array.\n",
    "\n",
    "import numpy as np\n",
    "import random\n",
    "\n",
    "arr = np.array(np.random.randint(1,100,(99)))\n",
    "print(arr)\n",
    "mask = arr[arr>50]\n",
    "print(\"\\nMasked array of values greater than 50:-\\n\",mask)"
   ]
  }
 ],
 "metadata": {
  "kernelspec": {
   "display_name": "Python 3",
   "language": "python",
   "name": "python3"
  },
  "language_info": {
   "codemirror_mode": {
    "name": "ipython",
    "version": 3
   },
   "file_extension": ".py",
   "mimetype": "text/x-python",
   "name": "python",
   "nbconvert_exporter": "python",
   "pygments_lexer": "ipython3",
   "version": "3.12.1"
  }
 },
 "nbformat": 4,
 "nbformat_minor": 5
}
