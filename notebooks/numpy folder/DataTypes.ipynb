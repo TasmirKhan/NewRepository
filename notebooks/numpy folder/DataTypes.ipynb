{
 "cells": [
  {
   "cell_type": "markdown",
   "id": "09160868",
   "metadata": {},
   "source": [
    "Data Types in NumPy\n",
    "Let's learn about NumPy’s data types and explore how they affect memory usage and performance in your arrays.\n",
    "\n",
    "1. Introduction to NumPy Data Types\n",
    "NumPy arrays are homogeneous, meaning that they can only store elements of the same type. This is different from Python lists, which can hold mixed data types. NumPy supports various data types (also called dtypes), and understanding them is crucial for optimizing memory usage and performance.\n",
    "\n",
    "Common Data Types in NumPy:\n",
    "int32, int64: Integer types with different bit sizes.\n",
    "float32, float64: Floating-point types with different precision.\n",
    "bool: Boolean data type.\n",
    "complex64, complex128: Complex number types.\n",
    "object: For storing objects (e.g., Python objects, strings).\n",
    "You can check the dtype of a NumPy array using the .dtype attribute.\n",
    "\n",
    "import numpy as np\n",
    " \n",
    "arr = np.array([1, 2, 3, 4, 5])\n",
    "print(arr.dtype)  # Output: int64 (or int32 depending on the system)\n",
    "\n",
    "2. Changing Data Types\n",
    "You can cast (convert) the data type of an array using the .astype() method. This is useful when you need to change the type for a specific operation or when you want to reduce memory usage.\n",
    "\n",
    "Example: Changing Data Types\n",
    "arr = np.array([1.5, 2.7, 3.9])\n",
    "print(arr.dtype)  # Output: float64\n",
    " \n",
    "arr_int = arr.astype(np.int32)  # Converting float to int\n",
    "print(arr_int)    # Output: [1 2 3]\n",
    "print(arr_int.dtype)  # Output: int32\n",
    "\n",
    "Example: Downcasting to Save Memory\n",
    "arr_large = np.array([1000000, 2000000, 3000000], dtype=np.int64)\n",
    "arr_small = arr_large.astype(np.int32)  # Downcasting to a smaller dtype\n",
    "print(arr_small)  # Output: [1000000 2000000 3000000]\n",
    "print(arr_small.dtype)  # Output: int32\n",
    "\n",
    "3. Why Data Types Matter in NumPy\n",
    "The choice of data type affects:\n",
    "\n",
    "Memory Usage: Smaller data types use less memory.\n",
    "Performance: Operations on smaller data types are faster due to less data being processed.\n",
    "Precision: Choosing the appropriate data type ensures that you don't lose precision (e.g., using float32 instead of float64 if you don't need that extra precision).\n",
    "Example: Memory Usage\n",
    "arr_int64 = np.array([1, 2, 3], dtype=np.int64)\n",
    "arr_int32 = np.array([1, 2, 3], dtype=np.int32)\n",
    " \n",
    "print(arr_int64.nbytes)  # Output: 24 bytes (3 elements * 8 bytes each)\n",
    "print(arr_int32.nbytes)  # Output: 12 bytes (3 elements * 4 bytes each)\n",
    "\n",
    "4. String Data Type in NumPy\n",
    "Although NumPy arrays typically store numerical data, you can also store strings by using the dtype='str' or dtype='U' (Unicode string) format. However, working with strings in NumPy is less efficient than using lists or Python's built-in string types.\n",
    "\n",
    "Example: String Array\n",
    "arr = np.array(['apple', 'banana', 'cherry'], dtype='U10')  # Unicode string array\n",
    "print(arr)\n",
    "\n",
    "5. Complex Numbers\n",
    "NumPy also supports complex numbers, which consist of a real and imaginary part. You can store complex numbers using complex64 or complex128 data types.\n",
    "\n",
    "Example: Complex Numbers\n",
    "arr = np.array([1 + 2j, 3 + 4j, 5 + 6j], dtype='complex128')\n",
    "print(arr)\n",
    "\n",
    "6. Object Data Type\n",
    "If you need to store mixed or complex data types (e.g., Python objects), you can use dtype='object'. However, this type sacrifices performance, so it should only be used when absolutely necessary.\n",
    "\n",
    "Example: Object Data Type\n",
    "arr = np.array([{'a': 1}, [1, 2, 3], 'hello'], dtype=object)\n",
    "print(arr)\n",
    "\n",
    "7. Choosing the Right Data Type\n",
    "Choosing the correct data type is essential for:\n",
    "\n",
    "Optimizing memory: Using the smallest data type that fits your data.\n",
    "Improving performance: Smaller types generally lead to faster operations.\n",
    "Ensuring precision: Avoid truncating or losing important decimal places or values.\n",
    "Summary:\n",
    "NumPy arrays are homogeneous, meaning all elements must be of the same type.\n",
    "Use .astype() to change data types and optimize memory and performance.\n",
    "The choice of data type affects memory usage, performance, and precision.\n",
    "Be mindful of complex numbers and object data types, which can increase memory usage and reduce performance"
   ]
  },
  {
   "cell_type": "code",
   "execution_count": 17,
   "id": "f9ea14ff",
   "metadata": {},
   "outputs": [
    {
     "name": "stdout",
     "output_type": "stream",
     "text": [
      "int64\n",
      "[6 2 4 4 6]\n",
      "[6 2 4 4 6]\n",
      "int32\n"
     ]
    }
   ],
   "source": [
    "import numpy as np\n",
    "import random\n",
    "\n",
    "arr = np.array(np.random.randint(0,9,(5)))\n",
    "print(arr.dtype)\n",
    "print(arr)\n",
    "\n",
    "arr = arr.astype(np.int32)\n",
    "print(arr)\n",
    "print(arr.dtype)"
   ]
  },
  {
   "cell_type": "code",
   "execution_count": 4,
   "id": "817c1a4c",
   "metadata": {},
   "outputs": [
    {
     "name": "stdout",
     "output_type": "stream",
     "text": [
      "['apple' 'banana' 'cherry']\n",
      "[1.+2.j 3.+2.j]\n",
      "[{'a': 1} list([1, 2, 3]) 'hello']\n"
     ]
    }
   ],
   "source": [
    "#String Data type in NumPy\n",
    "import numpy as np\n",
    "arr = np.array(['apple','banana','cherry'], dtype = 'U10')\n",
    "print(arr)\n",
    "\n",
    "arr2 = np.array([1+2j,3+2j], dtype = 'complex128')\n",
    "print(arr2)\n",
    "\n",
    "arr3 = np.array([{'a':1},[1,2,3],'hello'], dtype = object)\n",
    "print(arr3)\n"
   ]
  },
  {
   "cell_type": "code",
   "execution_count": null,
   "id": "86d62e0f",
   "metadata": {},
   "outputs": [],
   "source": []
  }
 ],
 "metadata": {
  "kernelspec": {
   "display_name": "Python 3",
   "language": "python",
   "name": "python3"
  },
  "language_info": {
   "codemirror_mode": {
    "name": "ipython",
    "version": 3
   },
   "file_extension": ".py",
   "mimetype": "text/x-python",
   "name": "python",
   "nbconvert_exporter": "python",
   "pygments_lexer": "ipython3",
   "version": "3.12.1"
  }
 },
 "nbformat": 4,
 "nbformat_minor": 5
}
