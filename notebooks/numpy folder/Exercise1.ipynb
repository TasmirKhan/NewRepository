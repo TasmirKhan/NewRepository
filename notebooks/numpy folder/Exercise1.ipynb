{
 "cells": [
  {
   "cell_type": "markdown",
   "id": "4ca0bc5c",
   "metadata": {},
   "source": []
  }
 ],
 "metadata": {
  "language_info": {
   "name": "python"
  }
 },
 "nbformat": 4,
 "nbformat_minor": 5
}
