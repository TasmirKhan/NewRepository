{
 "cells": [
  {
   "cell_type": "code",
   "execution_count": null,
   "id": "c2a5e405",
   "metadata": {},
   "outputs": [
    {
     "name": "stdout",
     "output_type": "stream",
     "text": [
      "[1 2 3 4 5] \n",
      " [[1 2 3]\n",
      " [4 5 6]]\n",
      "[[1 2 3]\n",
      " [4 5 6]]\n"
     ]
    }
   ],
   "source": [
    "import numpy as np\n",
    "\n",
    "arr1 = np.array([1,2,3,4,5])\n",
    "arr2 = np.array([[1,2,3],[4,5,6]])\n",
    "print(arr1,\"\\n\",arr2)\n",
    "print(arr2)\n"
   ]
  },
  {
   "cell_type": "code",
   "execution_count": null,
   "id": "fd38828f",
   "metadata": {},
   "outputs": [
    {
     "data": {
      "text/plain": [
       "array([0.  , 0.25, 0.5 , 0.75, 1.  ])"
      ]
     },
     "execution_count": 20,
     "metadata": {},
     "output_type": "execute_result"
    }
   ],
   "source": [
    "#Creating arrays from scratch\n",
    "import numpy as np\n",
    "np.zeros(3)\n",
    "np.ones((4,4))\n",
    "np.zeros((4,3))\n",
    "np.full((2,2),12)\n",
    "np.eye(5)\n",
    "np.arange(1,19,2)\n",
    "np.linspace(1,199,21)\n",
    "\n",
    "# np.zeros((3, 3))    # 3x3 array of zeros\n",
    "# np.ones((2, 4))     # 2x4 array of ones\n",
    "# np.full((2, 2), 7)  # 2x2 array filled with 7\n",
    "# np.eye(4)           # 4x4 identity matrix\n",
    "# np.arange(1, 10, 2) # [1, 3, 5, 7, 9] (like range)\n",
    "# np.linspace(0, 1, 5) # [0. 0.25 0.5 0.75 1.] (evenly spaced)\n"
   ]
  },
  {
   "cell_type": "code",
   "execution_count": 21,
   "id": "0ab90071",
   "metadata": {},
   "outputs": [
    {
     "name": "stdout",
     "output_type": "stream",
     "text": [
      "Shape (2, 3)\n",
      "Size: 6\n",
      "Dimensions 2\n",
      "Data type: int64\n"
     ]
    }
   ],
   "source": [
    "# 2. Checking array properties\n",
    "\n",
    "arr = np.array([[1,2,3],[5,7,6]])\n",
    "print(\"Shape\", arr.shape)\n",
    "print(\"Size:\", arr.size)\n",
    "print(\"Dimensions\", arr.ndim)\n",
    "print(\"Data type:\", arr.dtype)"
   ]
  },
  {
   "cell_type": "code",
   "execution_count": 40,
   "id": "15014346",
   "metadata": {},
   "outputs": [
    {
     "name": "stdout",
     "output_type": "stream",
     "text": [
      "float32\n",
      "[1.  2.7 3. ]\n",
      "[1 2 3]\n",
      "[1 2 3]\n"
     ]
    }
   ],
   "source": [
    "# 3. Changing Data Types\n",
    "\n",
    "import numpy as np\n",
    "\n",
    "arr= np.array([1,2.7,3],dtype=np.float32)\n",
    "print(arr.dtype)\n",
    "print(arr)\n",
    "\n",
    "arr_int = arr.astype(np.int32)\n",
    "print(arr_int)\n",
    "\n",
    "\n",
    "arr = arr.astype(np.int32)\n",
    "print(arr)\n"
   ]
  },
  {
   "cell_type": "code",
   "execution_count": null,
   "id": "b787dbe2",
   "metadata": {},
   "outputs": [
    {
     "name": "stdout",
     "output_type": "stream",
     "text": [
      "[11 22 33 44 55 66 77 88]\n",
      "Now we do the reshapping:-\n",
      "[[11 22 33 44]\n",
      " [55 66 77 88]]\n",
      "It's the original array:-\n",
      " [11 22 33 44 55 66 77 88]\n",
      "Now we do the flattening of the array:-\n",
      "[11 22 33 44 55 66 77 88]\n"
     ]
    }
   ],
   "source": [
    "# 4. Reshaping and flattening arrays\n",
    "arr = np.array([11,22,33,44,55,66,77,88])\n",
    "print(arr)\n",
    "print(\"Now we do the reshapping:-\")\n",
    "reshaped = arr.reshape((2,4))\n",
    "print(reshaped)\n",
    "\n",
    "print(\"It's the original array:-\\n\",arr)\n",
    "print(\"Now we do the flattening of the array:-\")\n",
    "flattened = arr.flatten() # Convert 2D -> 1D\n",
    "print(flattened)\n",
    "\n",
    "\n"
   ]
  }
 ],
 "metadata": {
  "kernelspec": {
   "display_name": "Python 3",
   "language": "python",
   "name": "python3"
  },
  "language_info": {
   "codemirror_mode": {
    "name": "ipython",
    "version": 3
   },
   "file_extension": ".py",
   "mimetype": "text/x-python",
   "name": "python",
   "nbconvert_exporter": "python",
   "pygments_lexer": "ipython3",
   "version": "3.12.1"
  }
 },
 "nbformat": 4,
 "nbformat_minor": 5
}
