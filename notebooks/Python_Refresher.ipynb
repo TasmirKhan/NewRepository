{
 "cells": [
  {
   "cell_type": "code",
   "execution_count": 2,
   "id": "577b6559",
   "metadata": {},
   "outputs": [
    {
     "name": "stdout",
     "output_type": "stream",
     "text": [
      "Arithmetic Operators\n",
      "Addition  22\n",
      "Subtraction  18\n",
      "Floor Division 10\n",
      "Exponential 400\n"
     ]
    }
   ],
   "source": [
    "#In this program we are going to use Operators to perform certain operations\n",
    "print(\"Arithmetic Operators\")\n",
    "a = 20\n",
    "b = 2\n",
    "print(\"Addition \",a+b)\n",
    "print(\"Subtraction \",a-b)\n",
    "print(\"Floor Division\", a//b)\n",
    "print(\"Exponential\",a**b)"
   ]
  },
  {
   "cell_type": "code",
   "execution_count": 4,
   "id": "c1380932",
   "metadata": {},
   "outputs": [
    {
     "name": "stdout",
     "output_type": "stream",
     "text": [
      "Comparison Operator\n",
      "False\n",
      "True\n",
      "False\n",
      "True\n",
      "False\n",
      "True\n"
     ]
    }
   ],
   "source": [
    "print(\"Comparison Operator\")\n",
    "a =5\n",
    "b =7\n",
    "print(a==b)\n",
    "print(a!=b)\n",
    "print(a>b)\n",
    "print(a<b)\n",
    "print(a>=b)\n",
    "print(a<=b)"
   ]
  },
  {
   "cell_type": "code",
   "execution_count": 12,
   "id": "3f17bf3f",
   "metadata": {},
   "outputs": [
    {
     "name": "stdout",
     "output_type": "stream",
     "text": [
      "3. Logical Operator\n",
      "0\n",
      "5\n",
      "True\n"
     ]
    }
   ],
   "source": [
    "print(\"3. Logical Operator\")\n",
    "a =0\n",
    "b=5\n",
    "print(a and b)\n",
    "print(a or b)\n",
    "print(not a)\n"
   ]
  },
  {
   "cell_type": "code",
   "execution_count": 2,
   "id": "c85295ba",
   "metadata": {},
   "outputs": [
    {
     "name": "stdout",
     "output_type": "stream",
     "text": [
      "4.Bitwise Operators\n",
      "0\n",
      "5\n"
     ]
    }
   ],
   "source": [
    "print(\"4.Bitwise Operators\")\n",
    "a =5 \n",
    "b=0\n",
    "print(a&b)\n",
    "print(a|b)"
   ]
  },
  {
   "cell_type": "code",
   "execution_count": 4,
   "id": "f60d5c23",
   "metadata": {},
   "outputs": [
    {
     "name": "stdout",
     "output_type": "stream",
     "text": [
      "5.Assignment operator\n",
      "6.Membership and identity operator.\n",
      "True\n",
      "False\n",
      "False\n",
      "True\n"
     ]
    }
   ],
   "source": [
    "print(\"5.Assignment operator\")\n",
    "print(\"6.Membership and identity operator.\")\n",
    "lst = [1,2,3,4,5,6,7]\n",
    "x = 2\n",
    "a = 4\n",
    "print(x in lst)\n",
    "print(x not in lst)\n",
    "print(x is a)\n",
    "print(x is not a)"
   ]
  },
  {
   "cell_type": "code",
   "execution_count": null,
   "id": "127a21a0",
   "metadata": {},
   "outputs": [
    {
     "name": "stdout",
     "output_type": "stream",
     "text": [
      "Taking input in python\n"
     ]
    }
   ],
   "source": [
    "print(\"Taking input in python\")\n",
    "x = input(\"Enter number\")\n"
   ]
  },
  {
   "cell_type": "code",
   "execution_count": 1,
   "id": "f0f23009",
   "metadata": {},
   "outputs": [
    {
     "name": "stdout",
     "output_type": "stream",
     "text": [
      "Operator Precedence [PEMDAS]\n"
     ]
    }
   ],
   "source": [
    "print(\"Operator Precedence [PEMDAS]\")"
   ]
  },
  {
   "cell_type": "code",
   "execution_count": 2,
   "id": "7aff8a12",
   "metadata": {},
   "outputs": [
    {
     "name": "stdout",
     "output_type": "stream",
     "text": [
      "coditional statements\n",
      "Not valid\n"
     ]
    }
   ],
   "source": [
    "print(\"coditional statements\")\n",
    "x = 99\n",
    "if(x > 111):\n",
    "    print(\"Greater\")\n",
    "elif(x < 99):\n",
    "    print(\"Smaller\")\n",
    "else:\n",
    "    print(\"Not valid\")"
   ]
  },
  {
   "cell_type": "code",
   "execution_count": null,
   "id": "c42a7365",
   "metadata": {},
   "outputs": [
    {
     "name": "stdout",
     "output_type": "stream",
     "text": [
      "Match Case Statements\n",
      "OK\n",
      "Not Found\n",
      "Unknown Status\n",
      "Internal Server Error\n"
     ]
    }
   ],
   "source": [
    "print(\"Match Case Statements\")\n",
    "def http_status(code):\n",
    "    match code:\n",
    "        case 200:\n",
    "            return \"OK\"\n",
    "        case 400:\n",
    "            return \"Bad Request\"\n",
    "        case 404:\n",
    "            return \"Not Found\"\n",
    "        case 500:\n",
    "            return \"Internal Server Error\"\n",
    "        case _:\n",
    "            return \"Unknown Status \"\n",
    "# _ Underscore act as default.\n",
    "print(http_status(200))\n",
    "print(http_status(404))\n",
    "print(http_status(213))\n",
    "print(http_status(500))"
   ]
  },
  {
   "cell_type": "code",
   "execution_count": 1,
   "id": "e5aa758e",
   "metadata": {},
   "outputs": [
    {
     "name": "stdout",
     "output_type": "stream",
     "text": [
      "Point at (5,7)\n"
     ]
    }
   ],
   "source": [
    "point = (5,7)\n",
    " \n",
    "match point:\n",
    "    case(0,0):\n",
    "        print(\"Origin\")\n",
    "    case(x,0):\n",
    "        print(f\"X-Axis at {x}\")\n",
    "    case(0,7):\n",
    "        print(f\"Y-Axis at {y}\")\n",
    "    case(x,y):\n",
    "        print(f\"Point at ({x},{y})\")"
   ]
  },
  {
   "cell_type": "code",
   "execution_count": 2,
   "id": "4a0eb1ce",
   "metadata": {},
   "outputs": [
    {
     "name": "stdout",
     "output_type": "stream",
     "text": [
      "Her name is Sophia, and she is 23 years old\n"
     ]
    }
   ],
   "source": [
    "#String and String formatting\n",
    "name = \"Sophia\"\n",
    "age = 23\n",
    "print(f\"Her name is {name}, and she is {age} years old\")"
   ]
  },
  {
   "cell_type": "code",
   "execution_count": 3,
   "id": "6edecd8b",
   "metadata": {},
   "outputs": [
    {
     "name": "stdout",
     "output_type": "stream",
     "text": [
      "Name of the Doctor is Sophia Khan, and age of the doctor is 23\n"
     ]
    }
   ],
   "source": [
    "#String formatting in python technique 2\n",
    "name = \"Sophia Khan\"\n",
    "age = 23\n",
    "print(\"Name of the Doctor is {}, and age of the doctor is {}\".format(name,age))"
   ]
  },
  {
   "cell_type": "code",
   "execution_count": 4,
   "id": "699013fe",
   "metadata": {},
   "outputs": [
    {
     "name": "stdout",
     "output_type": "stream",
     "text": [
      "Python    \n",
      "    Python\n",
      "  Python  \n"
     ]
    }
   ],
   "source": [
    "# Padding and Alignment\n",
    "print(f\"{'Python':<10}\")  # Left-align\n",
    "print(f\"{'Python':>10}\")  # Right-align\n",
    "print(f\"{'Python':^10}\")  # Center-align"
   ]
  },
  {
   "cell_type": "code",
   "execution_count": 9,
   "id": "445fbf02",
   "metadata": {},
   "outputs": [
    {
     "name": "stdout",
     "output_type": "stream",
     "text": [
      "1.For Loop\n",
      "Tech. Expert\n",
      "Doctor\n",
      "Data Scientist\n",
      "Programmar\n",
      "Coder\n",
      "Web Developer\n",
      "0\n",
      "1\n",
      "2\n",
      "2\n",
      "3\n",
      "4\n",
      "5\n",
      "Loops control statement using break.\n",
      "0\n",
      "1\n",
      "2\n",
      "3\n",
      "4\n",
      "Web Developer\n"
     ]
    }
   ],
   "source": [
    "#Loops in Python \n",
    "print(\"1.For Loop\")\n",
    "lst1 = [\"Tech. Expert\", \"Doctor\", \"Data Scientist\", \"Programmar\", \"Coder\", \"Web Developer\"]\n",
    "for career in lst1:\n",
    "    print(career)\n",
    "\n",
    "for i in range(3):\n",
    "    print(i)\n",
    "\n",
    "\n",
    "count =2\n",
    "while count <= 5:\n",
    "    print(count)\n",
    "    count+=1\n",
    "\n",
    "print(\"Loops control statement using break.\")\n",
    "Statement = \"\"\"break → Exits the loop.\n",
    "continue → Skips to the next iteration.\n",
    "pass → Does nothing (used as a placeholder).\"\"\"\n",
    "\n",
    "for i in range(10):\n",
    "    if i ==5:\n",
    "        print(lst1[i])\n",
    "        break\n",
    "    print(i)"
   ]
  },
  {
   "cell_type": "code",
   "execution_count": 4,
   "id": "9b9ce096",
   "metadata": {},
   "outputs": [
    {
     "name": "stdout",
     "output_type": "stream",
     "text": [
      "List creating and Implementing it's methods\n",
      "[1, 2, 3, 'four', 'five', 6.54, True, False]\n",
      "[1, 2, 3, 'four', 'five', 6.54, True, False, 'New element']\n",
      "[1, 2, 3, 'four', 'five', 6.54, True, False, 'New element', 3.14, 2.14, 1.14, 0.04]\n",
      "[1, 2, 3, 'four', 'five', 6, 6.54, True, False, 'New element', 3.14, 2.14, 1.14, 0.04]\n",
      "[1, 2, 3, 'four', 'five', 6, True, False, 'New element', 3.14, 2.14, 1.14, 0.04]\n",
      "None\n",
      "[0.04, 1.14, 2.14, 3.14, 'New element', False, True, 6, 'five', 'four', 3, 2, 1]\n"
     ]
    }
   ],
   "source": [
    "# List and List methods\n",
    "print(\"List creating and Implementing it's methods\")\n",
    "lst = [1,2,3,\"four\",\"five\",6.54,True, False]\n",
    "print(lst)\n",
    "lst.append(\"New element\")\n",
    "print(lst)\n",
    "lst.extend([3.14,2.14,1.14,0.04])\n",
    "print(lst)\n",
    "lst.insert(5,6)\n",
    "print(lst)\n",
    "lst.remove(6.54)\n",
    "print(lst)\n",
    "#print(lst.sort())\n",
    "print(lst.reverse())\n",
    "print(lst)"
   ]
  },
  {
   "cell_type": "code",
   "execution_count": 2,
   "id": "f1d70b10",
   "metadata": {},
   "outputs": [
    {
     "name": "stdout",
     "output_type": "stream",
     "text": [
      "Tuples and Tuple method.\n",
      "4\n",
      "1\n",
      "4\n",
      "Alice\n",
      "25\n"
     ]
    }
   ],
   "source": [
    "print(\"Tuples and Tuple method.\")\n",
    "tuple = \"\"\"Tuple Characteristics\n",
    "Immutable: Once created, elements cannot be changed.\n",
    "Faster than lists: Accessing elements in a tuple is faster than in a list.\n",
    "Can be used as dictionary keys: Since tuples are immutable, they can be used as keys in dictionaries.\"\"\"\n",
    "\"\"\"When to Use Tuples?\n",
    "When you want an unchangeable collection of elements.\n",
    "When you need a faster alternative to lists.\n",
    "When storing heterogeneous data (e.g., database records, coordinates).\"\"\"\n",
    "Tuple = (1,2,3,4,\"ok\")\n",
    "print(Tuple[3])\n",
    "print(Tuple.count(\"ok\"))\n",
    "print(Tuple.index(\"ok\"))\n",
    "\n",
    "\n",
    "# Packing\n",
    "person = (\"Alice\", 25, \"Engineer\")\n",
    "\n",
    "# Unpacking\n",
    "name, age, profession = person\n",
    "print(name)  # Alice\n",
    "print(age)   # 25"
   ]
  },
  {
   "cell_type": "code",
   "execution_count": 4,
   "id": "81e50d17",
   "metadata": {},
   "outputs": [
    {
     "name": "stdout",
     "output_type": "stream",
     "text": [
      "A Set in Python is Unordered, mutable, and ,unique collection of elements, It does not allow duplicate values.\n",
      "set()\n",
      "{1, 3.14, 'Hello'}\n",
      "{False, 1, 3.14, 'Hello'}\n",
      "[11, 11, 2, 3, 4, 4, 3, 2, 4, 5, 6, 0, 7, 3]\n",
      "{0, 2, 3, 4, 5, 6, 7, 11}\n"
     ]
    }
   ],
   "source": [
    "# Set in Python \n",
    "print(\"A Set in Python is Unordered, mutable, and ,unique collection of elements, It does not allow duplicate values.\")\n",
    "empty_set = set()\n",
    "filled_set = {1,\"Hello\", 3.14, True}\n",
    "filled_set2 = {1,\"Hello\", 3.14, False}\n",
    "lst = [11,11,2,3,4,4,3,2,4,5,6,0,7,3]\n",
    "unique_numbers = set(lst)\n",
    "print(empty_set)\n",
    "print(filled_set)\n",
    "print(filled_set2)\n",
    "print(lst)\n",
    "print(unique_numbers)"
   ]
  },
  {
   "cell_type": "code",
   "execution_count": 12,
   "id": "015552f1",
   "metadata": {},
   "outputs": [
    {
     "name": "stdout",
     "output_type": "stream",
     "text": [
      "Dictionary and it's Methods \n",
      " A dictionary in Python is an unordered, mutable, and key-value pair collection. It allows efficient data retrieval and modification. Dictionaries in Python are ordered as of Python 3.7\n",
      "Dictionary is the key value pair.\n",
      "{}\n",
      "{'name': 'Sophia', 'age': 23, 'profession': 'Doctor'}\n",
      "{'name': 'Sameer', 'age': 23, 'profession': 'Software Developer'}\n",
      "Sophia\n",
      "Sameer\n",
      "Doctor\n",
      "Software Developer\n"
     ]
    }
   ],
   "source": [
    "print(\"Dictionary and it's Methods \\n A dictionary in Python is an unordered, mutable, and key-value pair collection. It allows efficient data retrieval and modification. Dictionaries in Python are ordered as of Python 3.7\")\n",
    "print(\"Dictionary is the key value pair.\")\n",
    "\n",
    "empty_dict = {}\n",
    "\n",
    "student = {\n",
    "    \"name\" : \"Sophia\",\n",
    "    \"age\" : 23,\n",
    "    \"profession\" : \"Doctor\"\n",
    "}\n",
    "\n",
    "#using dict() constructor\n",
    "person = dict(name=\"Sameer\", age = 23, profession = \"Software Developer\")\n",
    "\n",
    "print(empty_dict)\n",
    "print(student)\n",
    "print(person)\n",
    "print(student[\"name\"])\n",
    "print(person[\"name\"])\n",
    "print(student.get(\"profession\"))\n",
    "print(person.get(\"profession\"))"
   ]
  },
  {
   "cell_type": "code",
   "execution_count": 18,
   "id": "fef1f4c7",
   "metadata": {},
   "outputs": [
    {
     "name": "stdout",
     "output_type": "stream",
     "text": [
      "File Handling and it's Operations\n",
      "File handling allows Python programs to read, write, and manipulate fiels stored on disk. Python provides built-in functions for working with files.\n",
      "Reading Files\n",
      "file content:-\n",
      " This is a text file\n",
      "it is used to manipulate.\n",
      "it is used as an example for text file operations\n",
      "Line 1 \n",
      "all_lines []\n"
     ]
    }
   ],
   "source": [
    "print(\"File Handling and it's Operations\")\n",
    "print(\"File handling allows Python programs to read, write, and manipulate fiels stored on disk. Python provides built-in functions for working with files.\")\n",
    "#operninf a file \n",
    "# file = open(\"filename\", mode)\n",
    "'''File Modes\n",
    "Mode\tDescription\n",
    "'r'\tRead (default) – Opens file for reading, raises an error if file does not exist.\n",
    "'w'\tWrite – Opens file for writing, creates a new file if not found, and overwrites existing content.\n",
    "'a'\tAppend – Opens file for writing, creates a new file if not found, and appends content instead of overwriting.\n",
    "'x'\tCreate – Creates a new file, but fails if the file already exists.\n",
    "'b'\tBinary mode – Used with rb, wb, ab, etc., for working with non-text files (e.g., images, PDFs).\n",
    "'t'\tText mode (default) – Used for text files (e.g., rt, wt). '''\n",
    "print(\"Reading Files\")\n",
    "file = open(\"example.txt\", \"r\")\n",
    "content = file.read();\n",
    "print(\"file content:-\\n\",content)\n",
    "line1 = file.readline()\n",
    "print(\"Line 1\", line1)\n",
    "all_lines = file.readlines()\n",
    "print(\"all_lines\",all_lines )"
   ]
  },
  {
   "cell_type": "code",
   "execution_count": 5,
   "id": "70185513",
   "metadata": {},
   "outputs": [
    {
     "name": "stdout",
     "output_type": "stream",
     "text": [
      "Hello this is a new text.\n"
     ]
    }
   ],
   "source": [
    "#writing into files\n",
    "file = open(\"example.txt\", \"w\")\n",
    "file.write(\"Hello this is a new text.\")\n",
    "file = open(\"example.txt\", \"r\")\n",
    "content = file.read()\n",
    "print(content)\n"
   ]
  },
  {
   "cell_type": "code",
   "execution_count": null,
   "id": "019a4be8",
   "metadata": {},
   "outputs": [],
   "source": [
    "#Json Module\n",
    "\"\"\"SON module\n",
    "JSON (JavaScript Object Notation) is a lightweight data format used for data exchange between servers and applications. It is widely used in APIs, web applications, and configurations.\n",
    "\n",
    "Python provides the json module to work with JSON data. You can import the json module like this:\n",
    "\n",
    "import json\"\"\"\n",
    "\n"
   ]
  }
 ],
 "metadata": {
  "kernelspec": {
   "display_name": "Python 3",
   "language": "python",
   "name": "python3"
  },
  "language_info": {
   "codemirror_mode": {
    "name": "ipython",
    "version": 3
   },
   "file_extension": ".py",
   "mimetype": "text/x-python",
   "name": "python",
   "nbconvert_exporter": "python",
   "pygments_lexer": "ipython3",
   "version": "3.12.1"
  }
 },
 "nbformat": 4,
 "nbformat_minor": 5
}
