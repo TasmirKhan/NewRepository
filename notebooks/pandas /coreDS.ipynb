{
 "cells": [
  {
   "cell_type": "markdown",
   "id": "a6ce4c84",
   "metadata": {},
   "source": [
    "Core Data Structures in Pandas\n",
    "Pandas is built on two main data structures:\n",
    "\n",
    "Series → One-dimensional (like a single column in Excel)\n",
    "DataFrame → Two-dimensional (like a full spreadsheet or SQL table)\n",
    "Series — 1D Labeled Array\n",
    "A Series is like a list with labels (index).\n",
    "\n",
    "import pandas as pd\n",
    " \n",
    "s = pd.Series([10, 20, 30, 40])\n",
    "print(s)\n",
    "\n",
    "Output:\n",
    "\n",
    "0    10\n",
    "1    20\n",
    "2    30\n",
    "3    40\n",
    "dtype: int64\n",
    "Notice the automatic index: 0, 1, 2, 3\n",
    "\n",
    "You can also define custom index:\n",
    "\n",
    "s = pd.Series([10, 20, 30], index=[\"a\", \"b\", \"c\"])\n",
    "\n",
    "DataFrame — 2D Labeled Table\n",
    "A DataFrame is like a dictionary of Series — multiple columns with labels.\n",
    "\n",
    "data = {\n",
    "    \"name\": [\"Alice\", \"Bob\", \"Charlie\"],\n",
    "    \"age\": [25, 30, 35],\n",
    "    \"city\": [\"Delhi\", \"Mumbai\", \"Bangalore\"]\n",
    "}\n",
    " \n",
    "df = pd.DataFrame(data)\n",
    "print(df)\n",
    "\n",
    "Output:\n",
    "\n",
    "     name  age      city\n",
    "0   Alice   25     Delhi\n",
    "1     Bob   30    Mumbai\n",
    "2  Charlie   35  Bangalore\n",
    "Each column in a DataFrame is a Series.\n",
    "\n",
    "Index and Labels\n",
    "Every Series and DataFrame has an Index — it helps with:\n",
    "\n",
    "Fast lookups\n",
    "Aligning data\n",
    "Merging & joining\n",
    "Time series operations\n",
    "df.index         # Row labels\n",
    "df.columns       # Column labels\n",
    "\n",
    "You can change them using:\n",
    "\n",
    "df.index = [\"a\", \"b\", \"c\"]\n",
    "df.columns = [\"Name\", \"Age\", \"City\"]\n",
    "\n",
    "Why Learn These Well?\n",
    "Most Pandas operations are built on these foundations:\n",
    "\n",
    "Selection\n",
    "Filtering\n",
    "Merging\n",
    "Aggregation\n",
    "Understanding Series & DataFrames will make everything else easier.\n",
    "\n",
    "Summary\n",
    "Series = 1D array with labels\n",
    "DataFrame = 2D table with rows + columns\n",
    "Both come with index and are the heart of Pandas"
   ]
  },
  {
   "cell_type": "code",
   "execution_count": null,
   "id": "bdff52e1",
   "metadata": {},
   "outputs": [
    {
     "name": "stdout",
     "output_type": "stream",
     "text": [
      "0    10\n",
      "1    20\n",
      "2    30\n",
      "3    40\n",
      "4    50\n",
      "dtype: int64\n"
     ]
    }
   ],
   "source": [
    "# Series 1D label\n",
    "import pandas as pd\n",
    "s = pd.Series([10,20,30,40,50])\n",
    "print(s) #Automatic index"
   ]
  },
  {
   "cell_type": "code",
   "execution_count": 9,
   "id": "99a283e1",
   "metadata": {},
   "outputs": [
    {
     "name": "stdout",
     "output_type": "stream",
     "text": [
      "I      1\n",
      "II     2\n",
      "III    3\n",
      "IV     4\n",
      "V      5\n",
      "dtype: Int32\n"
     ]
    },
    {
     "name": "stderr",
     "output_type": "stream",
     "text": [
      "/tmp/ipykernel_7111/1085168103.py:4: UserWarning: Instantiating Int32Dtype without any arguments.Pass a Int32Dtype instance to silence this warning.\n",
      "  s = pd.Series([1,2,3,4,5], index = [\"I\",\"II\",\"III\",\"IV\",\"V\"],dtype=pd.Int32Dtype)\n"
     ]
    }
   ],
   "source": [
    "# custom index\n",
    "import pandas as pd \n",
    " \n",
    "s = pd.Series([1,2,3,4,5], index = [\"I\",\"II\",\"III\",\"IV\",\"V\"],dtype=pd.Int32Dtype)\n",
    "\n",
    "print(s)"
   ]
  },
  {
   "cell_type": "code",
   "execution_count": 17,
   "id": "ba6474bd",
   "metadata": {},
   "outputs": [
    {
     "name": "stdout",
     "output_type": "stream",
     "text": [
      "      name  Age Relation\n",
      "0    Alice   24   Mother\n",
      "1      Bob   25   Father\n",
      "2  Charlie    2    Child\n",
      "\n",
      "       name  Age Relation\n",
      "1    Alice   24   Mother\n",
      "2      Bob   25   Father\n",
      "3  Charlie    2    Child\n",
      "\n",
      "       Naam  Umar  Rishta\n",
      "1    Alice    24  Mother\n",
      "2      Bob    25  Father\n",
      "3  Charlie     2   Child\n"
     ]
    }
   ],
   "source": [
    "import pandas as pd \n",
    "\n",
    "# DataFrame\n",
    "data = {\n",
    "    \"name\" : [\"Alice\",\"Bob\",\"Charlie\"],\n",
    "    \"Age\": [24,25,2],\n",
    "    \"Relation\": [\"Mother\",\"Father\", \"Child\"]\n",
    "}\n",
    "df = pd.DataFrame(data)\n",
    "print(df)\n",
    "df.index = [1,2,3]\n",
    "print(\"\\n\",df)\n",
    "df.columns = [\"Naam\", \"Umar\", \"Rishta\"]\n",
    "print(\"\\n\",df)"
   ]
  }
 ],
 "metadata": {
  "kernelspec": {
   "display_name": "Python 3",
   "language": "python",
   "name": "python3"
  },
  "language_info": {
   "codemirror_mode": {
    "name": "ipython",
    "version": 3
   },
   "file_extension": ".py",
   "mimetype": "text/x-python",
   "name": "python",
   "nbconvert_exporter": "python",
   "pygments_lexer": "ipython3",
   "version": "3.12.1"
  }
 },
 "nbformat": 4,
 "nbformat_minor": 5
}
