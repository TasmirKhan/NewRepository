{
 "cells": [
  {
   "cell_type": "markdown",
   "id": "6592aed9",
   "metadata": {},
   "source": [
    "Getting Started with Pandas\n",
    "What is Pandas?\n",
    "Pandas is a powerful, open-source Python library used for data manipulation, cleaning, and analysis. It provides two main data structures:\n",
    "\n",
    "Series: A one-dimensional labeled array\n",
    "DataFrame: A two-dimensional labeled table (like an Excel sheet or SQL table)\n",
    "Pandas makes working with structured data fast, expressive, and flexible.\n",
    "\n",
    "If you're working with tables, spreadsheets, or CSVs in Python—Pandas is your best friend.\n",
    "Why Use Pandas?\n",
    "Task\tWithout Pandas\tWith Pandas\n",
    "Load a CSV\topen() + loops\tpd.read_csv()\n",
    "Filter rows\tCustom loop logic\tdf[df[\"col\"] > 5]\n",
    "Group & summarize\tManual aggregation\tdf.groupby()\n",
    "Merge two datasets\tNested loops\tpd.merge()\n",
    "Pandas saves time, reduces code, and increases readability.\n",
    "\n",
    "Installing Pandas\n",
    "Install via pip:\n",
    "\n",
    "pip install pandas\n",
    "\n",
    "Or using conda (recommended if you're using Anaconda):\n",
    "\n",
    "conda install pandas\n",
    "\n",
    "Importing Pandas\n",
    "import pandas as pd\n",
    "\n",
    "pd is the standard alias used by the data science community.\n",
    "\n",
    "Pandas vs Excel vs SQL vs NumPy\n",
    "Tool\tStrengths\tWeaknesses\n",
    "Excel\tEasy UI, great for small data\tSlow, manual, not scalable\n",
    "SQL\tEfficient querying of big data\tNot ideal for transformation logic\n",
    "NumPy\tFast, low-level array operations\tNo labels, harder for tabular data\n",
    "Pandas\tLabel-aware, fast, flexible\tSlightly steep learning curve\n",
    "Pandas bridges the gap between NumPy performance and Excel-like usability. Pandas is built on top of NumPy.\n",
    "\n",
    "Summary\n",
    "Use Pandas when working with structured data.\n",
    "It's the Swiss Army knife of data science."
   ]
  },
  {
   "cell_type": "code",
   "execution_count": null,
   "id": "8a83ab6c",
   "metadata": {},
   "outputs": [],
   "source": [
    "import pandas as pd"
   ]
  }
 ],
 "metadata": {
  "language_info": {
   "name": "python"
  }
 },
 "nbformat": 4,
 "nbformat_minor": 5
}
