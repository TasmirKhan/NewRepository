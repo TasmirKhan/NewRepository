{
 "cells": [
  {
   "cell_type": "code",
   "execution_count": 22,
   "id": "eb4ae8bc",
   "metadata": {},
   "outputs": [
    {
     "name": "stdout",
     "output_type": "stream",
     "text": [
      "Hello world\n"
     ]
    }
   ],
   "source": [
    "print(\"Hello world\")"
   ]
  },
  {
   "cell_type": "code",
   "execution_count": 23,
   "id": "713073fa",
   "metadata": {},
   "outputs": [
    {
     "name": "stdout",
     "output_type": "stream",
     "text": [
      "Hello world\n"
     ]
    }
   ],
   "source": [
    "print('Hello world')"
   ]
  },
  {
   "cell_type": "code",
   "execution_count": 24,
   "id": "c00b686a",
   "metadata": {},
   "outputs": [
    {
     "name": "stdout",
     "output_type": "stream",
     "text": [
      "I am working hard today\n",
      " to earn royalty tomorrow\n"
     ]
    }
   ],
   "source": [
    "message = \"\"\"I am working hard today\n",
    " to earn royalty tomorrow\"\"\"\n",
    "print(message)"
   ]
  },
  {
   "cell_type": "code",
   "execution_count": 25,
   "id": "a71e4036",
   "metadata": {},
   "outputs": [
    {
     "name": "stdout",
     "output_type": "stream",
     "text": [
      "Anaconda\n",
      "A\n",
      "d\n",
      "cond\n",
      "nd\n"
     ]
    }
   ],
   "source": [
    "text = \"Anaconda\"\n",
    "print(text)\n",
    "print(text[0])\n",
    "print(text[-2])\n",
    "print(text[3:7])\n",
    "print(text[-3:-1])"
   ]
  },
  {
   "cell_type": "code",
   "execution_count": 32,
   "id": "baced5dc",
   "metadata": {},
   "outputs": [
    {
     "name": "stdout",
     "output_type": "stream",
     "text": [
      "samir\n",
      "SAMIR\n",
      "Samir\n",
      "Sameer\n",
      "2\n"
     ]
    }
   ],
   "source": [
    "str = \"Samir\"\n",
    "print(str.lower())\n",
    "print(str.upper())\n",
    "print(str.strip())\n",
    "print(str.replace('i',\"ee\"))\n",
    "print(str.find(\"m\"))"
   ]
  },
  {
   "cell_type": "code",
   "execution_count": 33,
   "id": "852181b9",
   "metadata": {},
   "outputs": [
    {
     "data": {
      "text/plain": [
       "'Hello,Abbas. You are 25 years old.'"
      ]
     },
     "execution_count": 33,
     "metadata": {},
     "output_type": "execute_result"
    }
   ],
   "source": [
    "#Here we are going to format our string.\n",
    "name = \"Abbas\"\n",
    "age = \"25\"\n",
    "f\"Hello,{name}. You are {age} years old.\""
   ]
  },
  {
   "cell_type": "code",
   "execution_count": null,
   "id": "d686971d",
   "metadata": {},
   "outputs": [],
   "source": []
  }
 ],
 "metadata": {
  "kernelspec": {
   "display_name": "Python 3",
   "language": "python",
   "name": "python3"
  },
  "language_info": {
   "codemirror_mode": {
    "name": "ipython",
    "version": 3
   },
   "file_extension": ".py",
   "mimetype": "text/x-python",
   "name": "python",
   "nbconvert_exporter": "python",
   "pygments_lexer": "ipython3",
   "version": "3.12.1"
  }
 },
 "nbformat": 4,
 "nbformat_minor": 5
}
