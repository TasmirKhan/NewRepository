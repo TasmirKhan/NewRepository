{
 "cells": [
  {
   "cell_type": "code",
   "execution_count": 2,
   "id": "577b6559",
   "metadata": {},
   "outputs": [
    {
     "name": "stdout",
     "output_type": "stream",
     "text": [
      "Arithmetic Operators\n",
      "Addition  22\n",
      "Subtraction  18\n",
      "Floor Division 10\n",
      "Exponential 400\n"
     ]
    }
   ],
   "source": [
    "#In this program we are going to use Operators to perform certain operations\n",
    "print(\"Arithmetic Operators\")\n",
    "a = 20\n",
    "b = 2\n",
    "print(\"Addition \",a+b)\n",
    "print(\"Subtraction \",a-b)\n",
    "print(\"Floor Division\", a//b)\n",
    "print(\"Exponential\",a**b)"
   ]
  },
  {
   "cell_type": "code",
   "execution_count": 4,
   "id": "c1380932",
   "metadata": {},
   "outputs": [
    {
     "name": "stdout",
     "output_type": "stream",
     "text": [
      "Comparison Operator\n",
      "False\n",
      "True\n",
      "False\n",
      "True\n",
      "False\n",
      "True\n"
     ]
    }
   ],
   "source": [
    "print(\"Comparison Operator\")\n",
    "a =5\n",
    "b =7\n",
    "print(a==b)\n",
    "print(a!=b)\n",
    "print(a>b)\n",
    "print(a<b)\n",
    "print(a>=b)\n",
    "print(a<=b)"
   ]
  },
  {
   "cell_type": "code",
   "execution_count": 12,
   "id": "3f17bf3f",
   "metadata": {},
   "outputs": [
    {
     "name": "stdout",
     "output_type": "stream",
     "text": [
      "3. Logical Operator\n",
      "0\n",
      "5\n",
      "True\n"
     ]
    }
   ],
   "source": [
    "print(\"3. Logical Operator\")\n",
    "a =0\n",
    "b=5\n",
    "print(a and b)\n",
    "print(a or b)\n",
    "print(not a)\n"
   ]
  },
  {
   "cell_type": "code",
   "execution_count": 2,
   "id": "c85295ba",
   "metadata": {},
   "outputs": [
    {
     "name": "stdout",
     "output_type": "stream",
     "text": [
      "4.Bitwise Operators\n",
      "0\n",
      "5\n"
     ]
    }
   ],
   "source": [
    "print(\"4.Bitwise Operators\")\n",
    "a =5 \n",
    "b=0\n",
    "print(a&b)\n",
    "print(a|b)"
   ]
  },
  {
   "cell_type": "code",
   "execution_count": 4,
   "id": "f60d5c23",
   "metadata": {},
   "outputs": [
    {
     "name": "stdout",
     "output_type": "stream",
     "text": [
      "5.Assignment operator\n",
      "6.Membership and identity operator.\n",
      "True\n",
      "False\n",
      "False\n",
      "True\n"
     ]
    }
   ],
   "source": [
    "print(\"5.Assignment operator\")\n",
    "print(\"6.Membership and identity operator.\")\n",
    "lst = [1,2,3,4,5,6,7]\n",
    "x = 2\n",
    "a = 4\n",
    "print(x in lst)\n",
    "print(x not in lst)\n",
    "print(x is a)\n",
    "print(x is not a)"
   ]
  },
  {
   "cell_type": "code",
   "execution_count": null,
   "id": "127a21a0",
   "metadata": {},
   "outputs": [
    {
     "name": "stdout",
     "output_type": "stream",
     "text": [
      "Taking input in python\n"
     ]
    }
   ],
   "source": [
    "print(\"Taking input in python\")\n",
    "x = input(\"Enter number\")\n"
   ]
  },
  {
   "cell_type": "code",
   "execution_count": 1,
   "id": "f0f23009",
   "metadata": {},
   "outputs": [
    {
     "name": "stdout",
     "output_type": "stream",
     "text": [
      "Operator Precedence [PEMDAS]\n"
     ]
    }
   ],
   "source": [
    "print(\"Operator Precedence [PEMDAS]\")"
   ]
  },
  {
   "cell_type": "code",
   "execution_count": 2,
   "id": "7aff8a12",
   "metadata": {},
   "outputs": [
    {
     "name": "stdout",
     "output_type": "stream",
     "text": [
      "coditional statements\n",
      "Not valid\n"
     ]
    }
   ],
   "source": [
    "print(\"coditional statements\")\n",
    "x = 99\n",
    "if(x > 111):\n",
    "    print(\"Greater\")\n",
    "elif(x < 99):\n",
    "    print(\"Smaller\")\n",
    "else:\n",
    "    print(\"Not valid\")"
   ]
  },
  {
   "cell_type": "code",
   "execution_count": null,
   "id": "c42a7365",
   "metadata": {},
   "outputs": [
    {
     "name": "stdout",
     "output_type": "stream",
     "text": [
      "Match Case Statements\n",
      "OK\n",
      "Not Found\n",
      "Unknown Status\n",
      "Internal Server Error\n"
     ]
    }
   ],
   "source": [
    "print(\"Match Case Statements\")\n",
    "def http_status(code):\n",
    "    match code:\n",
    "        case 200:\n",
    "            return \"OK\"\n",
    "        case 400:\n",
    "            return \"Bad Request\"\n",
    "        case 404:\n",
    "            return \"Not Found\"\n",
    "        case 500:\n",
    "            return \"Internal Server Error\"\n",
    "        case _:\n",
    "            return \"Unknown Status \"\n",
    "# _ Underscore act as default.\n",
    "print(http_status(200))\n",
    "print(http_status(404))\n",
    "print(http_status(213))\n",
    "print(http_status(500))"
   ]
  },
  {
   "cell_type": "code",
   "execution_count": 1,
   "id": "e5aa758e",
   "metadata": {},
   "outputs": [
    {
     "name": "stdout",
     "output_type": "stream",
     "text": [
      "Point at (5,7)\n"
     ]
    }
   ],
   "source": [
    "point = (5,7)\n",
    " \n",
    "match point:\n",
    "    case(0,0):\n",
    "        print(\"Origin\")\n",
    "    case(x,0):\n",
    "        print(f\"X-Axis at {x}\")\n",
    "    case(0,7):\n",
    "        print(f\"Y-Axis at {y}\")\n",
    "    case(x,y):\n",
    "        print(f\"Point at ({x},{y})\")"
   ]
  },
  {
   "cell_type": "code",
   "execution_count": 2,
   "id": "4a0eb1ce",
   "metadata": {},
   "outputs": [
    {
     "name": "stdout",
     "output_type": "stream",
     "text": [
      "Her name is Sophia, and she is 23 years old\n"
     ]
    }
   ],
   "source": [
    "#String and String formatting\n",
    "name = \"Sophia\"\n",
    "age = 23\n",
    "print(f\"Her name is {name}, and she is {age} years old\")"
   ]
  },
  {
   "cell_type": "code",
   "execution_count": 3,
   "id": "6edecd8b",
   "metadata": {},
   "outputs": [
    {
     "name": "stdout",
     "output_type": "stream",
     "text": [
      "Name of the Doctor is Sophia Khan, and age of the doctor is 23\n"
     ]
    }
   ],
   "source": [
    "#String formatting in python technique 2\n",
    "name = \"Sophia Khan\"\n",
    "age = 23\n",
    "print(\"Name of the Doctor is {}, and age of the doctor is {}\".format(name,age))"
   ]
  },
  {
   "cell_type": "code",
   "execution_count": 4,
   "id": "699013fe",
   "metadata": {},
   "outputs": [
    {
     "name": "stdout",
     "output_type": "stream",
     "text": [
      "Python    \n",
      "    Python\n",
      "  Python  \n"
     ]
    }
   ],
   "source": [
    "# Padding and Alignment\n",
    "print(f\"{'Python':<10}\")  # Left-align\n",
    "print(f\"{'Python':>10}\")  # Right-align\n",
    "print(f\"{'Python':^10}\")  # Center-align"
   ]
  },
  {
   "cell_type": "code",
   "execution_count": 9,
   "id": "445fbf02",
   "metadata": {},
   "outputs": [
    {
     "name": "stdout",
     "output_type": "stream",
     "text": [
      "1.For Loop\n",
      "Tech. Expert\n",
      "Doctor\n",
      "Data Scientist\n",
      "Programmar\n",
      "Coder\n",
      "Web Developer\n",
      "0\n",
      "1\n",
      "2\n",
      "2\n",
      "3\n",
      "4\n",
      "5\n",
      "Loops control statement using break.\n",
      "0\n",
      "1\n",
      "2\n",
      "3\n",
      "4\n",
      "Web Developer\n"
     ]
    }
   ],
   "source": [
    "#Loops in Python \n",
    "print(\"1.For Loop\")\n",
    "lst1 = [\"Tech. Expert\", \"Doctor\", \"Data Scientist\", \"Programmar\", \"Coder\", \"Web Developer\"]\n",
    "for career in lst1:\n",
    "    print(career)\n",
    "\n",
    "for i in range(3):\n",
    "    print(i)\n",
    "\n",
    "\n",
    "count =2\n",
    "while count <= 5:\n",
    "    print(count)\n",
    "    count+=1\n",
    "\n",
    "print(\"Loops control statement using break.\")\n",
    "Statement = \"\"\"break → Exits the loop.\n",
    "continue → Skips to the next iteration.\n",
    "pass → Does nothing (used as a placeholder).\"\"\"\n",
    "\n",
    "for i in range(10):\n",
    "    if i ==5:\n",
    "        print(lst1[i])\n",
    "        break\n",
    "    print(i)"
   ]
  },
  {
   "cell_type": "code",
   "execution_count": 4,
   "id": "9b9ce096",
   "metadata": {},
   "outputs": [
    {
     "name": "stdout",
     "output_type": "stream",
     "text": [
      "List creating and Implementing it's methods\n",
      "[1, 2, 3, 'four', 'five', 6.54, True, False]\n",
      "[1, 2, 3, 'four', 'five', 6.54, True, False, 'New element']\n",
      "[1, 2, 3, 'four', 'five', 6.54, True, False, 'New element', 3.14, 2.14, 1.14, 0.04]\n",
      "[1, 2, 3, 'four', 'five', 6, 6.54, True, False, 'New element', 3.14, 2.14, 1.14, 0.04]\n",
      "[1, 2, 3, 'four', 'five', 6, True, False, 'New element', 3.14, 2.14, 1.14, 0.04]\n",
      "None\n",
      "[0.04, 1.14, 2.14, 3.14, 'New element', False, True, 6, 'five', 'four', 3, 2, 1]\n"
     ]
    }
   ],
   "source": [
    "# List and List methods\n",
    "print(\"List creating and Implementing it's methods\")\n",
    "lst = [1,2,3,\"four\",\"five\",6.54,True, False]\n",
    "print(lst)\n",
    "lst.append(\"New element\")\n",
    "print(lst)\n",
    "lst.extend([3.14,2.14,1.14,0.04])\n",
    "print(lst)\n",
    "lst.insert(5,6)\n",
    "print(lst)\n",
    "lst.remove(6.54)\n",
    "print(lst)\n",
    "#print(lst.sort())\n",
    "print(lst.reverse())\n",
    "print(lst)"
   ]
  },
  {
   "cell_type": "code",
   "execution_count": 2,
   "id": "f1d70b10",
   "metadata": {},
   "outputs": [
    {
     "name": "stdout",
     "output_type": "stream",
     "text": [
      "Tuples and Tuple method.\n",
      "4\n",
      "1\n",
      "4\n",
      "Alice\n",
      "25\n"
     ]
    }
   ],
   "source": [
    "print(\"Tuples and Tuple method.\")\n",
    "tuple = \"\"\"Tuple Characteristics\n",
    "Immutable: Once created, elements cannot be changed.\n",
    "Faster than lists: Accessing elements in a tuple is faster than in a list.\n",
    "Can be used as dictionary keys: Since tuples are immutable, they can be used as keys in dictionaries.\"\"\"\n",
    "\"\"\"When to Use Tuples?\n",
    "When you want an unchangeable collection of elements.\n",
    "When you need a faster alternative to lists.\n",
    "When storing heterogeneous data (e.g., database records, coordinates).\"\"\"\n",
    "Tuple = (1,2,3,4,\"ok\")\n",
    "print(Tuple[3])\n",
    "print(Tuple.count(\"ok\"))\n",
    "print(Tuple.index(\"ok\"))\n",
    "\n",
    "\n",
    "# Packing\n",
    "person = (\"Alice\", 25, \"Engineer\")\n",
    "\n",
    "# Unpacking\n",
    "name, age, profession = person\n",
    "print(name)  # Alice\n",
    "print(age)   # 25"
   ]
  },
  {
   "cell_type": "code",
   "execution_count": 4,
   "id": "81e50d17",
   "metadata": {},
   "outputs": [
    {
     "name": "stdout",
     "output_type": "stream",
     "text": [
      "A Set in Python is Unordered, mutable, and ,unique collection of elements, It does not allow duplicate values.\n",
      "set()\n",
      "{1, 3.14, 'Hello'}\n",
      "{False, 1, 3.14, 'Hello'}\n",
      "[11, 11, 2, 3, 4, 4, 3, 2, 4, 5, 6, 0, 7, 3]\n",
      "{0, 2, 3, 4, 5, 6, 7, 11}\n"
     ]
    }
   ],
   "source": [
    "# Set in Python \n",
    "print(\"A Set in Python is Unordered, mutable, and ,unique collection of elements, It does not allow duplicate values.\")\n",
    "empty_set = set()\n",
    "filled_set = {1,\"Hello\", 3.14, True}\n",
    "filled_set2 = {1,\"Hello\", 3.14, False}\n",
    "lst = [11,11,2,3,4,4,3,2,4,5,6,0,7,3]\n",
    "unique_numbers = set(lst)\n",
    "print(empty_set)\n",
    "print(filled_set)\n",
    "print(filled_set2)\n",
    "print(lst)\n",
    "print(unique_numbers)"
   ]
  },
  {
   "cell_type": "code",
   "execution_count": 12,
   "id": "015552f1",
   "metadata": {},
   "outputs": [
    {
     "name": "stdout",
     "output_type": "stream",
     "text": [
      "Dictionary and it's Methods \n",
      " A dictionary in Python is an unordered, mutable, and key-value pair collection. It allows efficient data retrieval and modification. Dictionaries in Python are ordered as of Python 3.7\n",
      "Dictionary is the key value pair.\n",
      "{}\n",
      "{'name': 'Sophia', 'age': 23, 'profession': 'Doctor'}\n",
      "{'name': 'Sameer', 'age': 23, 'profession': 'Software Developer'}\n",
      "Sophia\n",
      "Sameer\n",
      "Doctor\n",
      "Software Developer\n"
     ]
    }
   ],
   "source": [
    "print(\"Dictionary and it's Methods \\n A dictionary in Python is an unordered, mutable, and key-value pair collection. It allows efficient data retrieval and modification. Dictionaries in Python are ordered as of Python 3.7\")\n",
    "print(\"Dictionary is the key value pair.\")\n",
    "\n",
    "empty_dict = {}\n",
    "\n",
    "student = {\n",
    "    \"name\" : \"Sophia\",\n",
    "    \"age\" : 23,\n",
    "    \"profession\" : \"Doctor\"\n",
    "}\n",
    "\n",
    "#using dict() constructor\n",
    "person = dict(name=\"Sameer\", age = 23, profession = \"Software Developer\")\n",
    "\n",
    "print(empty_dict)\n",
    "print(student)\n",
    "print(person)\n",
    "print(student[\"name\"])\n",
    "print(person[\"name\"])\n",
    "print(student.get(\"profession\"))\n",
    "print(person.get(\"profession\"))"
   ]
  },
  {
   "cell_type": "code",
   "execution_count": 18,
   "id": "fef1f4c7",
   "metadata": {},
   "outputs": [
    {
     "name": "stdout",
     "output_type": "stream",
     "text": [
      "File Handling and it's Operations\n",
      "File handling allows Python programs to read, write, and manipulate fiels stored on disk. Python provides built-in functions for working with files.\n",
      "Reading Files\n",
      "file content:-\n",
      " This is a text file\n",
      "it is used to manipulate.\n",
      "it is used as an example for text file operations\n",
      "Line 1 \n",
      "all_lines []\n"
     ]
    }
   ],
   "source": [
    "print(\"File Handling and it's Operations\")\n",
    "print(\"File handling allows Python programs to read, write, and manipulate fiels stored on disk. Python provides built-in functions for working with files.\")\n",
    "#operninf a file \n",
    "# file = open(\"filename\", mode)\n",
    "'''File Modes\n",
    "Mode\tDescription\n",
    "'r'\tRead (default) – Opens file for reading, raises an error if file does not exist.\n",
    "'w'\tWrite – Opens file for writing, creates a new file if not found, and overwrites existing content.\n",
    "'a'\tAppend – Opens file for writing, creates a new file if not found, and appends content instead of overwriting.\n",
    "'x'\tCreate – Creates a new file, but fails if the file already exists.\n",
    "'b'\tBinary mode – Used with rb, wb, ab, etc., for working with non-text files (e.g., images, PDFs).\n",
    "'t'\tText mode (default) – Used for text files (e.g., rt, wt). '''\n",
    "print(\"Reading Files\")\n",
    "file = open(\"example.txt\", \"r\")\n",
    "content = file.read();\n",
    "print(\"file content:-\\n\",content)\n",
    "line1 = file.readline()\n",
    "print(\"Line 1\", line1)\n",
    "all_lines = file.readlines()\n",
    "print(\"all_lines\",all_lines )"
   ]
  },
  {
   "cell_type": "code",
   "execution_count": 5,
   "id": "70185513",
   "metadata": {},
   "outputs": [
    {
     "name": "stdout",
     "output_type": "stream",
     "text": [
      "Hello this is a new text.\n"
     ]
    }
   ],
   "source": [
    "#writing into files\n",
    "file = open(\"example.txt\", \"w\")\n",
    "file.write(\"Hello this is a new text.\")\n",
    "file = open(\"example.txt\", \"r\")\n",
    "content = file.read()\n",
    "print(content)\n"
   ]
  },
  {
   "cell_type": "code",
   "execution_count": null,
   "id": "019a4be8",
   "metadata": {},
   "outputs": [
    {
     "name": "stdout",
     "output_type": "stream",
     "text": [
      "{\"name\": \"Arhaan Khan\", \"age\": 23, \"city\": \"New York\"}\n",
      "<class 'str'>\n",
      "{'name': 'Sophia', 'age': 23, 'city': 'Kerala'}\n",
      "<class 'dict'>\n"
     ]
    }
   ],
   "source": [
    "#Json Module\n",
    "\"\"\"SON module\n",
    "JSON (JavaScript Object Notation) is a lightweight data format used for data exchange between servers and applications. It is widely used in APIs, web applications, and configurations.\n",
    "\n",
    "Python provides the json module to work with JSON data. You can import the json module like this:\n",
    "\n",
    "import json\"\"\"\n",
    "import json\n",
    "data = {\"name\":\"Arhaan Khan\", \"age\":23, \"city\":\"New York\"}\n",
    "json_string = json.dumps(data)\n",
    "print(json_string)\n",
    "print(type(json_string))\n",
    "\n",
    "with open(\"data.json\", \"w\") as file:\n",
    "    json.dump(data,file)\n",
    "\n",
    "json_data = '{\"name\":\"Sophia\", \"age\":23, \"city\":\"Kerala\"}'\n",
    "python_obj = json.loads(json_data)\n",
    "print(python_obj)\n",
    "print(type(python_obj))\n",
    "\n",
    "\n"
   ]
  },
  {
   "cell_type": "code",
   "execution_count": null,
   "id": "760a426b",
   "metadata": {},
   "outputs": [
    {
     "name": "stdout",
     "output_type": "stream",
     "text": [
      "Land-rover Defender\n",
      "1099999998\n",
      "Dog is called and responded\n",
      "Animal is Called and Responded\n",
      "Birds can fly\n",
      "Penguins cannot fly\n",
      "16\n"
     ]
    }
   ],
   "source": [
    "#Object Oriented programming\n",
    "'''Key Concepts of OOP\n",
    "Concept\tDescription\n",
    "Class\tA blueprint for creating objects.\n",
    "Object\tAn instance of a class with specific data and behavior.\n",
    "Attributes\tVariables that store data for an object.\n",
    "Methods\tFunctions inside a class that define object behavior.\n",
    "Encapsulation\tRestricting direct access to an object's data.\n",
    "Inheritance\tCreating a new class from an existing class.\n",
    "Polymorphism\tUsing the same method name for different classes.\n",
    "'''\n",
    "# defining a class a creating an object in Python\n",
    "\n",
    "class Car:\n",
    "    def __init__(self,brand, model):\n",
    "        self.brand = brand\n",
    "        self.model = model\n",
    "\n",
    "    def display_info(self):\n",
    "        return f\"{self.brand} {self.model}\"\n",
    "    \n",
    "# Creating an object (Instance)\n",
    "\n",
    "car1 = Car(\"Land-rover\", \"Defender\")\n",
    "print(car1.display_info())\n",
    "\n",
    "# Encapsulation in OOPS\n",
    "\"\"\"2. Encapsulation (Data Hiding)\n",
    "Encapsulation prevents direct modification of attributes and allows controlled access using getter and setter methods.\"\"\"\n",
    "\n",
    "class BankAccount:\n",
    "    def __init__(self,balance):\n",
    "        self.__balance = balance\n",
    "\n",
    "    def get_balance(self):\n",
    "        return self.__balance\n",
    "    \n",
    "    def deposit(self,amount):\n",
    "        if amount>0:\n",
    "            self.__balance = self.__balance + amount\n",
    "        \n",
    "account = BankAccount(99999999)\n",
    "account.deposit(999999999)\n",
    "print(account.get_balance())\n",
    "\n",
    "\n",
    "# 3. Inheritance (Reusing Code)\n",
    "\"\"\"Inheritance allows a class (child) to inherit attributes and methods from another class (parent)\"\"\"\n",
    "\n",
    "\n",
    "class Animal:\n",
    "    def __init__(self):\n",
    "        print(\"Animal is Called and Responded\")\n",
    "    def speak(self):\n",
    "        return \"Animal can make sounds\"\n",
    "    \n",
    "class dog(Animal):\n",
    "    def __init__(self):\n",
    "        print(\"Dog is called and responded\")\n",
    "        super().__init__()\n",
    "\n",
    "    def speak(self):\n",
    "        return \"Dog can bark\"\n",
    "    \n",
    "tommy = dog()\n",
    "tommy.speak()\n",
    "\n",
    "\"\"\"4. Polymorphism (Same Method, Different Behavior)\n",
    "Polymorphism allows different classes to use the same method name.\"\"\"\n",
    "\n",
    "class Bird:\n",
    "    def fly(self):\n",
    "        return \"Birds can fly\"\n",
    "\n",
    "class Penguin(Bird):\n",
    "    def fly(self):\n",
    "        return \"Penguins cannot fly\"\n",
    "\n",
    "bird = Bird()\n",
    "penguin = Penguin()\n",
    "\n",
    "print(bird.fly())      # Output: Birds can fly\n",
    "print(penguin.fly())   # Output: Penguins cannot fly\n",
    "\n",
    "\"\"\"5. Abstraction (Hiding Implementation Details)\n",
    "Abstraction is used to define a method without implementing it in the base class.\n",
    "It is achieved using abstract base classes (ABC module).\"\"\"\n",
    "\n",
    "from abc import ABC, abstractmethod\n",
    "\n",
    "class Shape(ABC):\n",
    "    @abstractmethod\n",
    "    def area(self):\n",
    "        pass  # No implementation\n",
    "\n",
    "class Square(Shape):\n",
    "    def __init__(self, side):\n",
    "        self.side = side\n",
    "\n",
    "    def area(self):\n",
    "        return self.side * self.side  # Implemented in child class\n",
    "\n",
    "square = Square(4)\n",
    "print(square.area())  # Output: 16\n",
    "\n",
    "\n",
    "\n",
    "\"\"\"7. Magic Methods (Dunder Methods)\n",
    "Magic methods allow objects to behave like built-in types.\n",
    "\n",
    "Example: __str__() and __len__()\"\"\"\n",
    "\n",
    "class Book:\n",
    "    def __init__(self, title, pages):\n",
    "        self.title = title\n",
    "        self.pages = pages\n",
    "\n",
    "    def __str__(self):  # String representation\n",
    "        return f\"Book: {self.title}\"\n",
    "\n",
    "    def __len__(self):  # Define behavior for len()\n",
    "        return self.pages\n",
    "\n",
    "book = Book(\"Python Basics\", 300)\n",
    "print(str(book))  # Output: Book: Python Basics\n",
    "print(len(book))  # Output: 300\n"
   ]
  },
  {
   "cell_type": "code",
   "execution_count": null,
   "id": "dd53015e",
   "metadata": {},
   "outputs": [],
   "source": [
    "#List comprehension\n",
    "#Dictionary comprehension\n",
    "#Set comprehension\n",
    "# There is no tuple comprehension as tuple is immutable\n"
   ]
  },
  {
   "cell_type": "code",
   "execution_count": null,
   "id": "cb993fbe",
   "metadata": {},
   "outputs": [],
   "source": [
    "#Lambda functions"
   ]
  },
  {
   "cell_type": "code",
   "execution_count": null,
   "id": "694bd753",
   "metadata": {},
   "outputs": [
    {
     "ename": "FileNotFoundError",
     "evalue": "[Errno 2] No such file or directory: 'codebook_data.json'",
     "output_type": "error",
     "traceback": [
      "\u001b[31m---------------------------------------------------------------------------\u001b[39m",
      "\u001b[31mFileNotFoundError\u001b[39m                         Traceback (most recent call last)",
      "\u001b[36mCell\u001b[39m\u001b[36m \u001b[39m\u001b[32mIn[18]\u001b[39m\u001b[32m, line 19\u001b[39m\n\u001b[32m     16\u001b[39m         \u001b[38;5;28mprint\u001b[39m(\u001b[33mf\u001b[39m\u001b[33m\"\u001b[39m\u001b[38;5;132;01m{\u001b[39;00mpage[\u001b[33m'\u001b[39m\u001b[33mid\u001b[39m\u001b[33m'\u001b[39m]\u001b[38;5;132;01m}\u001b[39;00m\u001b[33m: \u001b[39m\u001b[38;5;132;01m{\u001b[39;00mpage[\u001b[33m'\u001b[39m\u001b[33mname\u001b[39m\u001b[33m'\u001b[39m]\u001b[38;5;132;01m}\u001b[39;00m\u001b[33m\"\u001b[39m)\n\u001b[32m     18\u001b[39m \u001b[38;5;66;03m# Load and display the data\u001b[39;00m\n\u001b[32m---> \u001b[39m\u001b[32m19\u001b[39m data = \u001b[43mload_data\u001b[49m\u001b[43m(\u001b[49m\u001b[33;43m\"\u001b[39;49m\u001b[33;43mcodebook_data.json\u001b[39;49m\u001b[33;43m\"\u001b[39;49m\u001b[43m)\u001b[49m\n\u001b[32m     20\u001b[39m display_users(data)\n",
      "\u001b[36mCell\u001b[39m\u001b[36m \u001b[39m\u001b[32mIn[18]\u001b[39m\u001b[32m, line 5\u001b[39m, in \u001b[36mload_data\u001b[39m\u001b[34m(filename)\u001b[39m\n\u001b[32m      4\u001b[39m \u001b[38;5;28;01mdef\u001b[39;00m\u001b[38;5;250m \u001b[39m\u001b[34mload_data\u001b[39m(filename):\n\u001b[32m----> \u001b[39m\u001b[32m5\u001b[39m     \u001b[38;5;28;01mwith\u001b[39;00m \u001b[38;5;28;43mopen\u001b[39;49m\u001b[43m(\u001b[49m\u001b[43mfilename\u001b[49m\u001b[43m,\u001b[49m\u001b[43m \u001b[49m\u001b[33;43m\"\u001b[39;49m\u001b[33;43mr\u001b[39;49m\u001b[33;43m\"\u001b[39;49m\u001b[43m)\u001b[49m \u001b[38;5;28;01mas\u001b[39;00m file:\n\u001b[32m      6\u001b[39m         data = json.load(file)\n\u001b[32m      7\u001b[39m     \u001b[38;5;28;01mreturn\u001b[39;00m data\n",
      "\u001b[36mFile \u001b[39m\u001b[32m~/.local/lib/python3.12/site-packages/IPython/core/interactiveshell.py:326\u001b[39m, in \u001b[36m_modified_open\u001b[39m\u001b[34m(file, *args, **kwargs)\u001b[39m\n\u001b[32m    319\u001b[39m \u001b[38;5;28;01mif\u001b[39;00m file \u001b[38;5;129;01min\u001b[39;00m {\u001b[32m0\u001b[39m, \u001b[32m1\u001b[39m, \u001b[32m2\u001b[39m}:\n\u001b[32m    320\u001b[39m     \u001b[38;5;28;01mraise\u001b[39;00m \u001b[38;5;167;01mValueError\u001b[39;00m(\n\u001b[32m    321\u001b[39m         \u001b[33mf\u001b[39m\u001b[33m\"\u001b[39m\u001b[33mIPython won\u001b[39m\u001b[33m'\u001b[39m\u001b[33mt let you open fd=\u001b[39m\u001b[38;5;132;01m{\u001b[39;00mfile\u001b[38;5;132;01m}\u001b[39;00m\u001b[33m by default \u001b[39m\u001b[33m\"\u001b[39m\n\u001b[32m    322\u001b[39m         \u001b[33m\"\u001b[39m\u001b[33mas it is likely to crash IPython. If you know what you are doing, \u001b[39m\u001b[33m\"\u001b[39m\n\u001b[32m    323\u001b[39m         \u001b[33m\"\u001b[39m\u001b[33myou can use builtins\u001b[39m\u001b[33m'\u001b[39m\u001b[33m open.\u001b[39m\u001b[33m\"\u001b[39m\n\u001b[32m    324\u001b[39m     )\n\u001b[32m--> \u001b[39m\u001b[32m326\u001b[39m \u001b[38;5;28;01mreturn\u001b[39;00m \u001b[43mio_open\u001b[49m\u001b[43m(\u001b[49m\u001b[43mfile\u001b[49m\u001b[43m,\u001b[49m\u001b[43m \u001b[49m\u001b[43m*\u001b[49m\u001b[43margs\u001b[49m\u001b[43m,\u001b[49m\u001b[43m \u001b[49m\u001b[43m*\u001b[49m\u001b[43m*\u001b[49m\u001b[43mkwargs\u001b[49m\u001b[43m)\u001b[49m\n",
      "\u001b[31mFileNotFoundError\u001b[39m: [Errno 2] No such file or directory: 'codebook_data.json'"
     ]
    }
   ],
   "source": [
    "import json\n",
    "\n",
    "# # Load the JSON file\n",
    "# def load_data(filename):\n",
    "#     with open(filename, \"r\") as file:\n",
    "#         data = json.load(file)\n",
    "#     return data\n",
    "\n",
    "# # Display users and their connections\n",
    "# def display_users(data):\n",
    "#     print(\"Users and Their Connections:\\n\")\n",
    "#     for user in data[\"users\"]:\n",
    "#         print(f\"{user['name']} (ID: {user['id']}) - Friends: {user['friends']} - Liked Pages: {user['liked_pages']}\")\n",
    "#     print(\"\\nPages:\\n\")\n",
    "#     for page in data[\"pages\"]:\n",
    "#         print(f\"{page['id']}: {page['name']}\")\n",
    "\n",
    "# # Load and display the data\n",
    "# data = load_data(\"codebook_data.json\")\n",
    "# display_users(data)"
   ]
  }
 ],
 "metadata": {
  "kernelspec": {
   "display_name": "Python 3",
   "language": "python",
   "name": "python3"
  },
  "language_info": {
   "codemirror_mode": {
    "name": "ipython",
    "version": 3
   },
   "file_extension": ".py",
   "mimetype": "text/x-python",
   "name": "python",
   "nbconvert_exporter": "python",
   "pygments_lexer": "ipython3",
   "version": "3.12.1"
  }
 },
 "nbformat": 4,
 "nbformat_minor": 5
}
