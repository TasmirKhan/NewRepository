{
 "cells": [
  {
   "cell_type": "markdown",
   "id": "3222221d",
   "metadata": {},
   "source": [
    "Introduction to Databases\n",
    "What is a Database?\n",
    "A Database is an organized collection of structured information or data, typically stored electronically in a computer system. Its a way to store data in a format that is easily accessible\n",
    "\n",
    "Example: Think of a library where books are organized by topic, author, and title – that's essentially what a database does with data.\n",
    "\n",
    "Why Do We Need Databases?\n",
    "To store, manage, and retrieve large amounts of data efficiently.\n",
    "To prevent data duplication and maintain data integrity.\n",
    "To allow multiple users to access and manipulate data simultaneously.\n",
    "What is SQL?\n",
    "SQL (Structured Query Language) is the standard programming language used to communicate with and manipulate databases.\n",
    "\n",
    "Common operations using SQL:\n",
    "\n",
    "INSERT – Add new records (CREATE)\n",
    "\n",
    "SELECT – Retrieve data (READ)\n",
    "\n",
    "UPDATE – Modify existing data (UPDATE)\n",
    "\n",
    "DELETE – Remove records (DELETE)\n",
    "\n",
    "These operations are usually referred to as CRUD Operations. CRUD stands for Create, Read, Update, and Delete — the four basic operations used to manage data in a database.\n",
    "\n",
    "Comparison with Excel\n",
    "Databases and Excel may seem similar at first, but they work differently under the hood.\n",
    "\n",
    "In Excel, a sheet is like a table in a database.\n",
    "Each row in the sheet is similar to a record (or entry) in a database table.\n",
    "Each column in Excel corresponds to a field (or attribute) in a table.\n",
    "Excel stores all data in one file, whereas a database can contain multiple related tables.\n",
    "In databases, you can define strict data types and rules, which Excel doesn't enforce.\n",
    "Unlike Excel, databases allow complex querying, relationships between tables, and secure multi-user access.\n",
    "Think of a database as a more powerful, structured, and scalable version of Excel for data management.\n",
    "\n",
    "Relational vs Non-relational Databases\n",
    "Relational databases store data in structured tables with predefined schemas and relationships between tables (e.g., MySQL, PostgreSQL). Non-relational databases (NoSQL) use flexible formats like documents, key-value pairs, or graphs, and don’t require a fixed schema (e.g., MongoDB, Firebase). Relational is ideal for structured data and complex queries, while non-relational is better for scalability and unstructured data.\n",
    "\n",
    "Feature\tRelational (SQL)\tNon-relational (NoSQL)\n",
    "Structure\tTables (rows & cols)\tDocuments, Key-Value\n",
    "Language\tSQL\tVaries (Mongo Query, etc.)\n",
    "Schema\tFixed schema\tFlexible schema\n",
    "Examples\tMySQL, PostgreSQL\tMongoDB, Firebase\n",
    "What is DBMS?\n",
    "A Database Management System (DBMS) is software that interacts with users, applications, and the database itself to capture and analyze data. It allows users to create, read, update, and delete data in a structured way.\n",
    "\n",
    "Examples: MySQL, PostgreSQL, Oracle Database, SQLite.\n",
    "Functions: Data storage, retrieval, security, backup, and recovery.\n",
    "What is MySQL?\n",
    "MySQL is an open-source relational database management system (RDBMS) that uses SQL.\n",
    "\n",
    "Widely used in web development\n",
    "High performance and reliability\n",
    "Powers platforms like WordPress, Facebook (early days), and YouTube\n",
    "Real-World Use Cases\n",
    "E-commerce websites to store customer orders and product listings\n",
    "Banking systems to handle transactions securely\n",
    "Social networks to manage user data, messages, and posts\n",
    "Summary\n",
    "Databases are essential for structured data storage and retrieval.\n",
    "\n",
    "SQL is the language used to interact with relational databases.\n",
    "\n",
    "MySQL is a popular and powerful SQL-based database system.\n",
    "\n",
    "Understanding databases is a must-have skill for any developer or data analyst"
   ]
  },
  {
   "cell_type": "code",
   "execution_count": null,
   "id": "879db802",
   "metadata": {
    "vscode": {
     "languageId": "plaintext"
    }
   },
   "outputs": [],
   "source": []
  }
 ],
 "metadata": {
  "language_info": {
   "name": "python"
  }
 },
 "nbformat": 4,
 "nbformat_minor": 5
}
