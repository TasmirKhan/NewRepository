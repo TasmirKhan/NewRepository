{
 "cells": [
  {
   "cell_type": "code",
   "execution_count": 22,
   "id": "f4a5c734",
   "metadata": {},
   "outputs": [
    {
     "name": "stdout",
     "output_type": "stream",
     "text": [
      "[4 5 6]\n",
      "6\n",
      "3\n",
      "Slicing :-\n",
      "Original array:-\n",
      " [[1 2 3]\n",
      " [4 5 6]]\n",
      "[[4 5 6]]\n",
      "[1 2]\n",
      "[5 6]\n",
      "[23 45 67]\n",
      "Arr3 :-  [13. 24. 35. 46. 57. 68.]\n",
      "[35. 46. 57. 68.]\n"
     ]
    }
   ],
   "source": [
    "import numpy as np\n",
    "\n",
    "arr = np.array([[1,2,3], [4,5,6]])\n",
    "print(arr[1])\n",
    "print(arr[1][2])\n",
    "print(arr[-2][2]) #same as python lisṭ̣̣\n",
    "\n",
    "print(\"Slicing :-\")\n",
    "print( \"Original array:-\\n\",arr)\n",
    "print(arr[1:2])\n",
    "print(arr[0, 0:2])\n",
    "print(arr[1][1:3])\n",
    "#Use .copy() if you need an independent copy.\n",
    "\n",
    "# Fancy Indexing \n",
    "arr2 = np.array([12,23,34,45,56,67])\n",
    "x = [1,3,5]\n",
    "print(arr2[x])\n",
    "\n",
    "# Boolean Masking (Filtering)\n",
    "arr3 = np.array([13,24,35,46,57,68], dtype=np.float32)\n",
    "print(\"Arr3 :- \", arr3)\n",
    "mask = arr3 > 25\n",
    "print(arr3[mask])\n",
    "\n"
   ]
  }
 ],
 "metadata": {
  "kernelspec": {
   "display_name": "Python 3",
   "language": "python",
   "name": "python3"
  },
  "language_info": {
   "codemirror_mode": {
    "name": "ipython",
    "version": 3
   },
   "file_extension": ".py",
   "mimetype": "text/x-python",
   "name": "python",
   "nbconvert_exporter": "python",
   "pygments_lexer": "ipython3",
   "version": "3.12.1"
  }
 },
 "nbformat": 4,
 "nbformat_minor": 5
}
