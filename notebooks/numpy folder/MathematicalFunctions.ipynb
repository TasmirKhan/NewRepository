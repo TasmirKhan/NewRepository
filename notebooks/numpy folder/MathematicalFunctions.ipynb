{
 "cells": [
  {
   "cell_type": "code",
   "execution_count": null,
   "id": "02ac5a8d",
   "metadata": {},
   "outputs": [
    {
     "name": "stdout",
     "output_type": "stream",
     "text": [
      "The array is:-\n",
      " [4 5 3 8 4 3 3 4 3 8]\n",
      "Mean of the data:- 4.5\n",
      "Std. Devn. :- 1.857417562100671\n",
      "Variance:- 3.45\n",
      "min:- 3\n",
      "Max:- 8\n",
      "Sum:- 45 \n",
      "Product:- 1658880 \n",
      "Median:- 4.0 \n",
      "Index of the min:- 2 \n",
      "Index of the max:- 3 \n",
      "Unique elements:- [3 4 5 8] \n",
      "n-th difference:- [ 1 -2  5 -4 -1  0  1 -1  5] \n",
      "Cumulative sum:- [ 4  9 12 20 24 27 30 34 37 45] \n",
      "evenly spaced numbers [ 0.   2.5  5.   7.5 10. ] \n",
      "Natural Logarithm:- [1.38629436 1.60943791 1.09861229 2.07944154 1.38629436 1.09861229\n",
      " 1.09861229 1.38629436 1.09861229 2.07944154] \n",
      "Exponential:- [  54.59815003  148.4131591    20.08553692 2980.95798704   54.59815003\n",
      "   20.08553692   20.08553692   54.59815003   20.08553692 2980.95798704]\n"
     ]
    }
   ],
   "source": [
    "import random\n",
    "import numpy as np\n",
    "\n",
    "arr = np.array(np.random.randint(1,10,(10)))\n",
    "print(\"The array is:-\\n\",arr)\n",
    "\n",
    "print(\"Mean of the data:-\",np.mean(arr))\n",
    "print(\"Std. Devn. :-\", np.std(arr))\n",
    "print(\"Variance:-\", np.var(arr))\n",
    "print(\"min:-\",np.min(arr))\n",
    "print(\"Max:-\",np.max(arr))\n",
    "print(\"Sum:-\",np.sum(arr),\"\\nProduct:-\",np.prod(arr),\"\\nMedian:-\", np.median(arr), \"\\nIndex of the min:-\",np.argmin(arr),\"\\nIndex of the max:-\",np.argmax(arr),\"\\nUnique elements:-\",np.unique(arr),\"\\nn-th difference:-\",np.diff(arr),\"\\nCumulative sum:-\",np.cumsum(arr),\"\\nevenly spaced numbers\",np.linspace(0,10,5),\"\\nNatural Logarithm:-\",np.log(arr),\"\\nExponential:-\",np.exp(arr))\n",
    "#\"\\nPercentile:-\",np.percentile(arr),"
   ]
  }
 ],
 "metadata": {
  "kernelspec": {
   "display_name": "Python 3",
   "language": "python",
   "name": "python3"
  },
  "language_info": {
   "codemirror_mode": {
    "name": "ipython",
    "version": 3
   },
   "file_extension": ".py",
   "mimetype": "text/x-python",
   "name": "python",
   "nbconvert_exporter": "python",
   "pygments_lexer": "ipython3",
   "version": "3.12.1"
  }
 },
 "nbformat": 4,
 "nbformat_minor": 5
}
